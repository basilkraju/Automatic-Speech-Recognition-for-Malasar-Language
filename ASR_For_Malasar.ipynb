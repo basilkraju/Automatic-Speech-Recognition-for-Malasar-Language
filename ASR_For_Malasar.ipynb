{
 "cells": [
  {
   "cell_type": "markdown",
   "id": "a0270049-ecdd-4fdd-91f2-44bbabfe52f4",
   "metadata": {
    "tags": []
   },
   "source": [
    "# ***Automatic Speech Recognition***"
   ]
  },
  {
   "cell_type": "code",
   "execution_count": 1,
   "id": "059984a8-6b35-465c-b934-f5a51cf12caa",
   "metadata": {},
   "outputs": [],
   "source": [
    "import os\n",
    "import pandas as pd"
   ]
  },
  {
   "cell_type": "code",
   "execution_count": 2,
   "id": "2ad2eada-b852-45f7-bb14-453a1046edb2",
   "metadata": {},
   "outputs": [],
   "source": [
    "import torch\n",
    "import os \n",
    "os.environ[\"CUDA_VISIBLE_DEVICES\"] = \"3\""
   ]
  },
  {
   "cell_type": "code",
   "execution_count": 3,
   "id": "b094c2c4-bb8a-4eaa-8a7e-ee2e39013908",
   "metadata": {},
   "outputs": [
    {
     "name": "stdout",
     "output_type": "stream",
     "text": [
      "Token will not been saved to git credential helper. Pass `add_to_git_credential=True` if you want to set the git credential as well.\n",
      "Token is valid.\n",
      "Your token has been saved to /jupyter/socse.user06/.cache/huggingface/token\n",
      "Login successful\n"
     ]
    }
   ],
   "source": [
    "import huggingface_hub\n",
    "huggingface_hub.login(\"\")\n"
   ]
  },
  {
   "cell_type": "code",
   "execution_count": 4,
   "id": "ce45f843-c43c-40ce-8341-558f975397f2",
   "metadata": {},
   "outputs": [
    {
     "name": "stderr",
     "output_type": "stream",
     "text": [
      "Found cached dataset parquet (/jupyter/socse.user06/.cache/huggingface/datasets/basilkr___parquet/basilkr--Malasar_Luke_Dict_Dataset-bdaa2be7889fc559/0.0.0/2a3b91fbd88a2c90d1dbbb32b460cf621d31bd5b05b934492fdef7d8d6f236ec)\n"
     ]
    },
    {
     "data": {
      "application/vnd.jupyter.widget-view+json": {
       "model_id": "bd92a22392454cd1bc251a232b443403",
       "version_major": 2,
       "version_minor": 0
      },
      "text/plain": [
       "  0%|          | 0/2 [00:00<?, ?it/s]"
      ]
     },
     "metadata": {},
     "output_type": "display_data"
    }
   ],
   "source": [
    "from datasets import load_dataset, DatasetDict\n",
    "\n",
    "dataset=DatasetDict()\n",
    "#basilkr/Malasar_Dict_only\n",
    "dataset = load_dataset(\"basilkr/Malasar_Luke_Dict_Dataset\",use_auth_token=True)"
   ]
  },
  {
   "cell_type": "code",
   "execution_count": 5,
   "id": "6ac24c59-b352-4a66-a125-5b2e3848f2f5",
   "metadata": {},
   "outputs": [
    {
     "data": {
      "text/plain": [
       "{'audio_path': {'path': 'luke00இவருகளோடவு.wav',\n",
       "  'array': array([0.00000000e+00, 2.19607962e-14, 9.76593074e-15, ...,\n",
       "         0.00000000e+00, 0.00000000e+00, 0.00000000e+00]),\n",
       "  'sampling_rate': 24000},\n",
       " 'sentence': 'இவருகளோடவு'}"
      ]
     },
     "execution_count": 5,
     "metadata": {},
     "output_type": "execute_result"
    }
   ],
   "source": [
    "dataset['train'][0]"
   ]
  },
  {
   "cell_type": "code",
   "execution_count": 6,
   "id": "a10e1281-fd3e-43cf-8d0b-aab178f28fc4",
   "metadata": {},
   "outputs": [],
   "source": [
    "from datasets import Audio"
   ]
  },
  {
   "cell_type": "code",
   "execution_count": 7,
   "id": "f5519dfe-c6ad-4532-8bd9-fc1c7697a096",
   "metadata": {},
   "outputs": [],
   "source": [
    "dataset = dataset.cast_column('audio_path',Audio(sampling_rate = 16000))"
   ]
  },
  {
   "cell_type": "code",
   "execution_count": 8,
   "id": "7b206dfc-1b9e-499a-9ba9-af1652b51d90",
   "metadata": {},
   "outputs": [
    {
     "data": {
      "text/plain": [
       "{'audio_path': {'path': 'luke00இவருகளோடவு.wav',\n",
       "  'array': array([ 4.26325641e-14, -6.57252031e-14, -5.86197757e-14, ...,\n",
       "          0.00000000e+00,  0.00000000e+00,  0.00000000e+00]),\n",
       "  'sampling_rate': 16000},\n",
       " 'sentence': 'இவருகளோடவு'}"
      ]
     },
     "execution_count": 8,
     "metadata": {},
     "output_type": "execute_result"
    }
   ],
   "source": [
    "dataset['train'][0]"
   ]
  },
  {
   "cell_type": "code",
   "execution_count": 9,
   "id": "11b65cbd-567b-43b5-bc59-a343b17de691",
   "metadata": {},
   "outputs": [
    {
     "data": {
      "text/plain": [
       "DatasetDict({\n",
       "    train: Dataset({\n",
       "        features: ['audio_path', 'sentence'],\n",
       "        num_rows: 16850\n",
       "    })\n",
       "    test: Dataset({\n",
       "        features: ['audio_path', 'sentence'],\n",
       "        num_rows: 1873\n",
       "    })\n",
       "})"
      ]
     },
     "execution_count": 9,
     "metadata": {},
     "output_type": "execute_result"
    }
   ],
   "source": [
    "dataset"
   ]
  },
  {
   "cell_type": "code",
   "execution_count": 10,
   "id": "f0e83a67-9a16-4a17-9905-a010d8a1b9b1",
   "metadata": {},
   "outputs": [],
   "source": [
    "from transformers import WhisperFeatureExtractor\n",
    "\n",
    "feature_extractor = WhisperFeatureExtractor.from_pretrained(\"openai/whisper-large-v2\")\n"
   ]
  },
  {
   "cell_type": "code",
   "execution_count": 11,
   "id": "a82a17a7-a067-4c80-822c-2240d789adf0",
   "metadata": {},
   "outputs": [],
   "source": [
    "from transformers import WhisperTokenizer\n",
    "\n",
    "tokenizer = WhisperTokenizer.from_pretrained(\"openai/whisper-large-v2\",  task=\"transcribe\")\n"
   ]
  },
  {
   "cell_type": "code",
   "execution_count": 12,
   "id": "be31eff3-130f-4e35-a355-83a89d55e72c",
   "metadata": {},
   "outputs": [
    {
     "name": "stderr",
     "output_type": "stream",
     "text": [
      "2023-06-21 23:41:44.142288: I tensorflow/core/platform/cpu_feature_guard.cc:182] This TensorFlow binary is optimized to use available CPU instructions in performance-critical operations.\n",
      "To enable the following instructions: AVX2 FMA, in other operations, rebuild TensorFlow with the appropriate compiler flags.\n",
      "2023-06-21 23:41:44.803060: W tensorflow/compiler/tf2tensorrt/utils/py_utils.cc:38] TF-TRT Warning: Could not find TensorRT\n"
     ]
    },
    {
     "name": "stdout",
     "output_type": "stream",
     "text": [
      "Input:                 இவருகளோடவு\n",
      "Decoded w/ special:    <|startoftranscript|><|transcribe|><|notimestamps|>இவருகளோடவு<|endoftext|>\n",
      "Decoded w/out special: இவருகளோடவு\n",
      "Are equal:             True\n"
     ]
    }
   ],
   "source": [
    "input_str = dataset[\"train\"][0][\"sentence\"]\n",
    "labels = tokenizer(input_str).input_ids\n",
    "decoded_with_special = tokenizer.decode(labels, skip_special_tokens=False)\n",
    "decoded_str = tokenizer.decode(labels, skip_special_tokens=True)\n",
    "\n",
    "print(f\"Input:                 {input_str}\")\n",
    "print(f\"Decoded w/ special:    {decoded_with_special}\")\n",
    "print(f\"Decoded w/out special: {decoded_str}\")\n",
    "print(f\"Are equal:             {input_str == decoded_str}\")\n"
   ]
  },
  {
   "cell_type": "code",
   "execution_count": 13,
   "id": "db49d012-2cc8-451d-ba62-0602b3491503",
   "metadata": {},
   "outputs": [],
   "source": [
    "from transformers import WhisperProcessor\n",
    "\n",
    "processor = WhisperProcessor.from_pretrained(\"openai/whisper-large-v2\",  task=\"transcribe\")\n"
   ]
  },
  {
   "cell_type": "code",
   "execution_count": 14,
   "id": "493a3a7a-3e7c-48ad-ba8d-a38be4587f1a",
   "metadata": {},
   "outputs": [],
   "source": [
    "def prepare_dataset(batch):\n",
    "    # load and resample audio data from 48 to 16kHz\n",
    "    audio = batch[\"audio_path\"]\n",
    "\n",
    "    # compute input length\n",
    "    #batch[\"input_length\"] = len(batch[\"audio_path\"])\n",
    "\n",
    "    # compute log-Mel input features from input audio array \n",
    "    batch[\"input_features\"] = feature_extractor(audio[\"array\"], sampling_rate=audio[\"sampling_rate\"]).input_features[0]\n",
    "\n",
    "    # encode target text to label ids \n",
    "    batch[\"labels\"] = tokenizer(batch[\"sentence\"]).input_ids\n",
    "\n",
    "    # compute labels length\n",
    "    #batch[\"labels_length\"] = len(tokenizer(batch[\"sentence\"], add_special_tokens=False).input_ids)\n",
    "    return batch\n",
    "\n"
   ]
  },
  {
   "cell_type": "code",
   "execution_count": 15,
   "id": "bcb9b1c5-9378-4244-9252-5e5aa28869d0",
   "metadata": {},
   "outputs": [
    {
     "name": "stderr",
     "output_type": "stream",
     "text": [
      "Loading cached processed dataset at /jupyter/socse.user06/.cache/huggingface/datasets/basilkr___parquet/basilkr--Malasar_Luke_Dict_Dataset-bdaa2be7889fc559/0.0.0/2a3b91fbd88a2c90d1dbbb32b460cf621d31bd5b05b934492fdef7d8d6f236ec/cache-36e6b0fe80b9cb80_*_of_00004.arrow\n",
      "Loading cached processed dataset at /jupyter/socse.user06/.cache/huggingface/datasets/basilkr___parquet/basilkr--Malasar_Luke_Dict_Dataset-bdaa2be7889fc559/0.0.0/2a3b91fbd88a2c90d1dbbb32b460cf621d31bd5b05b934492fdef7d8d6f236ec/cache-7c5055cd356ab4f8_*_of_00004.arrow\n"
     ]
    }
   ],
   "source": [
    "dataset = dataset.map(prepare_dataset, remove_columns= dataset.column_names[\"train\"], num_proc=4)\n"
   ]
  },
  {
   "cell_type": "code",
   "execution_count": 16,
   "id": "35d9ec2e-faa7-4d0e-9db7-073b57a6c616",
   "metadata": {},
   "outputs": [],
   "source": [
    "import torch\n",
    "\n",
    "from dataclasses import dataclass\n",
    "from typing import Any, Dict, List, Union\n",
    "\n",
    "@dataclass\n",
    "class DataCollatorSpeechSeq2SeqWithPadding:\n",
    "    processor: Any\n",
    "\n",
    "    def __call__(self, features: List[Dict[str, Union[List[int], torch.Tensor]]]) -> Dict[str, torch.Tensor]:\n",
    "        # split inputs and labels since they have to be of different lengths and need different padding methods\n",
    "        # first treat the audio inputs by simply returning torch tensors\n",
    "        input_features = [{\"input_features\": feature[\"input_features\"]} for feature in features]\n",
    "        batch = self.processor.feature_extractor.pad(input_features, return_tensors=\"pt\")\n",
    "\n",
    "        # get the tokenized label sequences\n",
    "        label_features = [{\"input_ids\": feature[\"labels\"]} for feature in features]\n",
    "        # pad the labels to max length\n",
    "        labels_batch = self.processor.tokenizer.pad(label_features, return_tensors=\"pt\")\n",
    "\n",
    "        # replace padding with -100 to ignore loss correctly\n",
    "        labels = labels_batch[\"input_ids\"].masked_fill(labels_batch.attention_mask.ne(1), -100)\n",
    "\n",
    "        # if bos token is appended in previous tokenization step,\n",
    "        # cut bos token here as it's append later anyways\n",
    "        if (labels[:, 0] == self.processor.tokenizer.bos_token_id).all().cpu().item():\n",
    "            labels = labels[:, 1:]\n",
    "\n",
    "        batch[\"labels\"] = labels\n",
    "\n",
    "        return batch\n"
   ]
  },
  {
   "cell_type": "code",
   "execution_count": 17,
   "id": "03472f1c-f974-485e-8f02-c8a3b925e099",
   "metadata": {},
   "outputs": [],
   "source": [
    "data_collator = DataCollatorSpeechSeq2SeqWithPadding(processor=processor)\n"
   ]
  },
  {
   "cell_type": "code",
   "execution_count": 18,
   "id": "4b0d34d9-38ea-41a9-95bb-73e191b15e0a",
   "metadata": {},
   "outputs": [],
   "source": [
    "import evaluate\n",
    "\n",
    "metric = evaluate.load(\"wer\")\n"
   ]
  },
  {
   "cell_type": "code",
   "execution_count": 19,
   "id": "1a1b4b42-1dcd-4277-be82-922d5d494496",
   "metadata": {},
   "outputs": [],
   "source": [
    "def compute_metrics(pred):\n",
    "    pred_ids = pred.predictions\n",
    "    label_ids = pred.label_ids\n",
    "\n",
    "    # replace -100 with the pad_token_id\n",
    "    label_ids[label_ids == -100] = tokenizer.pad_token_id\n",
    "\n",
    "    # we do not want to group tokens when computing the metrics\n",
    "    pred_str = tokenizer.batch_decode(pred_ids, skip_special_tokens=True)\n",
    "    label_str = tokenizer.batch_decode(label_ids, skip_special_tokens=True)\n",
    "\n",
    "    wer = 100 * metric.compute(predictions=pred_str, references=label_str)\n",
    "\n",
    "    return {\"wer\": wer}\n"
   ]
  },
  {
   "cell_type": "code",
   "execution_count": 20,
   "id": "7e3db79d-e52b-48c8-af0d-b2fc3e6dd05a",
   "metadata": {},
   "outputs": [],
   "source": [
    "from transformers import WhisperForConditionalGeneration\n",
    "\n",
    "model = WhisperForConditionalGeneration.from_pretrained(\"openai/whisper-large-v2\")\n"
   ]
  },
  {
   "cell_type": "code",
   "execution_count": 21,
   "id": "a084cec7-e688-431d-abc0-b5e3483c6d72",
   "metadata": {},
   "outputs": [],
   "source": [
    "model.config.forced_decoder_ids = None\n",
    "model.config.suppress_tokens = []\n",
    "#model.config.max_length = 500\n"
   ]
  },
  {
   "cell_type": "code",
   "execution_count": 22,
   "id": "407034f6-b33e-4300-8618-03d654dcdfa0",
   "metadata": {},
   "outputs": [],
   "source": [
    "# !nvidia-smi -c 0\n"
   ]
  },
  {
   "cell_type": "code",
   "execution_count": 23,
   "id": "9a6215fa-fe53-4ea9-b87c-871ecc982d1d",
   "metadata": {},
   "outputs": [],
   "source": [
    "from transformers import Seq2SeqTrainingArguments\n",
    "\n",
    "training_args = Seq2SeqTrainingArguments(\n",
    "    output_dir=\"./Malasar_50_latest\",  # change to a repo name of your choice\n",
    "    per_device_train_batch_size=32,\n",
    "    gradient_accumulation_steps=1,  # increase by 2x for every 2x decrease in batch size\n",
    "    learning_rate=1e-5,\n",
    "    warmup_steps=50,\n",
    "    max_steps=1500,\n",
    "    gradient_checkpointing=True,\n",
    "    fp16=True,\n",
    "    evaluation_strategy=\"steps\",\n",
    "    per_device_eval_batch_size=16,\n",
    "    predict_with_generate=True,\n",
    "    generation_max_length=225,\n",
    "    save_steps=500,\n",
    "    eval_steps=50,\n",
    "    logging_steps=25,\n",
    "    report_to=[\"tensorboard\"],\n",
    "    load_best_model_at_end=True,\n",
    "    metric_for_best_model=\"wer\",\n",
    "    greater_is_better=False,\n",
    "    push_to_hub=True,\n",
    ")\n"
   ]
  },
  {
   "cell_type": "code",
   "execution_count": 25,
   "id": "36048572-d051-4c7e-9fae-519dc172372b",
   "metadata": {},
   "outputs": [],
   "source": [
    "from transformers import Seq2SeqTrainer\n",
    "import os\n",
    "os.environ[\"HUGGINGFACE_HUB_NO_GIT\"] = \"1\"\n",
    "trainer = Seq2SeqTrainer(\n",
    "    args=training_args,\n",
    "    model=model,\n",
    "    train_dataset=dataset[\"train\"],\n",
    "    eval_dataset=dataset[\"test\"],\n",
    "    data_collator=data_collator,\n",
    "    compute_metrics=compute_metrics,\n",
    "    tokenizer=processor.feature_extractor,\n",
    ")\n"
   ]
  },
  {
   "cell_type": "code",
   "execution_count": null,
   "id": "fb3030da-e08f-4742-8d9c-15b2961925e6",
   "metadata": {},
   "outputs": [
    {
     "name": "stderr",
     "output_type": "stream",
     "text": [
      "/jupyter/socse.user06/.local/lib/python3.9/site-packages/transformers/optimization.py:391: FutureWarning: This implementation of AdamW is deprecated and will be removed in a future version. Use the PyTorch implementation torch.optim.AdamW instead, or set `no_deprecation_warning=True` to disable this warning\n",
      "  warnings.warn(\n",
      "`use_cache = True` is incompatible with gradient checkpointing. Setting `use_cache = False`...\n"
     ]
    },
    {
     "data": {
      "text/html": [
       "\n",
       "    <div>\n",
       "      \n",
       "      <progress value='1500' max='1500' style='width:300px; height:20px; vertical-align: middle;'></progress>\n",
       "      [1500/1500 13:33:11, Epoch 2/3]\n",
       "    </div>\n",
       "    <table border=\"1\" class=\"dataframe\">\n",
       "  <thead>\n",
       " <tr style=\"text-align: left;\">\n",
       "      <th>Step</th>\n",
       "      <th>Training Loss</th>\n",
       "      <th>Validation Loss</th>\n",
       "      <th>Wer</th>\n",
       "    </tr>\n",
       "  </thead>\n",
       "  <tbody>\n",
       "    <tr>\n",
       "      <td>50</td>\n",
       "      <td>0.676800</td>\n",
       "      <td>0.159135</td>\n",
       "      <td>63.919886</td>\n",
       "    </tr>\n",
       "    <tr>\n",
       "      <td>100</td>\n",
       "      <td>0.171100</td>\n",
       "      <td>0.115213</td>\n",
       "      <td>52.989986</td>\n",
       "    </tr>\n",
       "    <tr>\n",
       "      <td>150</td>\n",
       "      <td>0.139200</td>\n",
       "      <td>0.106360</td>\n",
       "      <td>42.002861</td>\n",
       "    </tr>\n",
       "    <tr>\n",
       "      <td>200</td>\n",
       "      <td>0.113100</td>\n",
       "      <td>0.092185</td>\n",
       "      <td>40.200286</td>\n",
       "    </tr>\n",
       "    <tr>\n",
       "      <td>250</td>\n",
       "      <td>0.120800</td>\n",
       "      <td>0.088140</td>\n",
       "      <td>46.494993</td>\n",
       "    </tr>\n",
       "    <tr>\n",
       "      <td>300</td>\n",
       "      <td>0.131200</td>\n",
       "      <td>0.079986</td>\n",
       "      <td>37.510730</td>\n",
       "    </tr>\n",
       "    <tr>\n",
       "      <td>350</td>\n",
       "      <td>0.111200</td>\n",
       "      <td>0.077438</td>\n",
       "      <td>37.567954</td>\n",
       "    </tr>\n",
       "    <tr>\n",
       "      <td>400</td>\n",
       "      <td>0.100000</td>\n",
       "      <td>0.083301</td>\n",
       "      <td>33.590844</td>\n",
       "    </tr>\n",
       "    <tr>\n",
       "      <td>450</td>\n",
       "      <td>0.094000</td>\n",
       "      <td>0.076707</td>\n",
       "      <td>31.702432</td>\n",
       "    </tr>\n",
       "    <tr>\n",
       "      <td>500</td>\n",
       "      <td>0.075800</td>\n",
       "      <td>0.072794</td>\n",
       "      <td>32.331903</td>\n",
       "    </tr>\n",
       "    <tr>\n",
       "      <td>550</td>\n",
       "      <td>0.096700</td>\n",
       "      <td>0.070886</td>\n",
       "      <td>34.391989</td>\n",
       "    </tr>\n",
       "    <tr>\n",
       "      <td>600</td>\n",
       "      <td>0.042300</td>\n",
       "      <td>0.070517</td>\n",
       "      <td>31.044349</td>\n",
       "    </tr>\n",
       "    <tr>\n",
       "      <td>650</td>\n",
       "      <td>0.066900</td>\n",
       "      <td>0.072035</td>\n",
       "      <td>31.587983</td>\n",
       "    </tr>\n",
       "    <tr>\n",
       "      <td>700</td>\n",
       "      <td>0.068600</td>\n",
       "      <td>0.069058</td>\n",
       "      <td>31.216023</td>\n",
       "    </tr>\n",
       "    <tr>\n",
       "      <td>750</td>\n",
       "      <td>0.079800</td>\n",
       "      <td>0.066942</td>\n",
       "      <td>30.643777</td>\n",
       "    </tr>\n",
       "    <tr>\n",
       "      <td>800</td>\n",
       "      <td>0.081800</td>\n",
       "      <td>0.067104</td>\n",
       "      <td>32.188841</td>\n",
       "    </tr>\n",
       "    <tr>\n",
       "      <td>850</td>\n",
       "      <td>0.084100</td>\n",
       "      <td>0.061912</td>\n",
       "      <td>28.898426</td>\n",
       "    </tr>\n",
       "    <tr>\n",
       "      <td>900</td>\n",
       "      <td>0.056600</td>\n",
       "      <td>0.061609</td>\n",
       "      <td>29.127325</td>\n",
       "    </tr>\n",
       "    <tr>\n",
       "      <td>950</td>\n",
       "      <td>0.054200</td>\n",
       "      <td>0.061138</td>\n",
       "      <td>28.841202</td>\n",
       "    </tr>\n",
       "    <tr>\n",
       "      <td>1000</td>\n",
       "      <td>0.063800</td>\n",
       "      <td>0.061211</td>\n",
       "      <td>30.100143</td>\n",
       "    </tr>\n",
       "    <tr>\n",
       "      <td>1050</td>\n",
       "      <td>0.050300</td>\n",
       "      <td>0.060993</td>\n",
       "      <td>29.327611</td>\n",
       "    </tr>\n",
       "    <tr>\n",
       "      <td>1100</td>\n",
       "      <td>0.036900</td>\n",
       "      <td>0.061231</td>\n",
       "      <td>29.327611</td>\n",
       "    </tr>\n",
       "    <tr>\n",
       "      <td>1150</td>\n",
       "      <td>0.027300</td>\n",
       "      <td>0.063796</td>\n",
       "      <td>32.589413</td>\n",
       "    </tr>\n",
       "    <tr>\n",
       "      <td>1200</td>\n",
       "      <td>0.026900</td>\n",
       "      <td>0.063693</td>\n",
       "      <td>31.673820</td>\n",
       "    </tr>\n",
       "    <tr>\n",
       "      <td>1250</td>\n",
       "      <td>0.038400</td>\n",
       "      <td>0.062977</td>\n",
       "      <td>32.045780</td>\n",
       "    </tr>\n",
       "    <tr>\n",
       "      <td>1300</td>\n",
       "      <td>0.057400</td>\n",
       "      <td>0.062078</td>\n",
       "      <td>30.014306</td>\n",
       "    </tr>\n",
       "    <tr>\n",
       "      <td>1350</td>\n",
       "      <td>0.053000</td>\n",
       "      <td>0.060723</td>\n",
       "      <td>30.529328</td>\n",
       "    </tr>\n",
       "    <tr>\n",
       "      <td>1400</td>\n",
       "      <td>0.021700</td>\n",
       "      <td>0.060530</td>\n",
       "      <td>31.359084</td>\n",
       "    </tr>\n",
       "    <tr>\n",
       "      <td>1450</td>\n",
       "      <td>0.032700</td>\n",
       "      <td>0.060150</td>\n",
       "      <td>31.301860</td>\n",
       "    </tr>\n",
       "    <tr>\n",
       "      <td>1500</td>\n",
       "      <td>0.023500</td>\n",
       "      <td>0.059908</td>\n",
       "      <td>30.901288</td>\n",
       "    </tr>\n",
       "  </tbody>\n",
       "</table><p>"
      ],
      "text/plain": [
       "<IPython.core.display.HTML object>"
      ]
     },
     "metadata": {},
     "output_type": "display_data"
    },
    {
     "name": "stderr",
     "output_type": "stream",
     "text": [
      "/jupyter/socse.user06/.local/lib/python3.9/site-packages/transformers/generation/utils.py:2301: UserWarning: No PYTORCH_KERNEL_CACHE_PATH or HOME environment variable set! This disables kernel caching. (Triggered internally at ../aten/src/ATen/native/cuda/jit_utils.cpp:1426.)\n",
      "  next_tokens.tile(eos_token_id_tensor.shape[0], 1).ne(eos_token_id_tensor.unsqueeze(1)).prod(dim=0)\n"
     ]
    },
    {
     "data": {
      "text/plain": [
       "TrainOutput(global_step=1500, training_loss=0.1225989959637324, metrics={'train_runtime': 48803.1953, 'train_samples_per_second': 0.984, 'train_steps_per_second': 0.031, 'total_flos': 1.018527602098176e+20, 'train_loss': 0.1225989959637324, 'epoch': 2.85})"
      ]
     },
     "execution_count": 27,
     "metadata": {},
     "output_type": "execute_result"
    }
   ],
   "source": [
    "trainer.train()"
   ]
  },
  {
   "cell_type": "code",
   "execution_count": null,
   "id": "f2876bb2-9d48-4d6a-a14f-ffb483ddc98f",
   "metadata": {},
   "outputs": [],
   "source": [
    "trainer.push_to_hub(\"basilkr/Malasar_ASR_Dict\")"
   ]
  },
  {
   "cell_type": "code",
   "execution_count": null,
   "id": "7cad7bc7-6b60-43f5-a2a5-e4c56461d5bd",
   "metadata": {},
   "outputs": [],
   "source": [
    "torch.cuda.memory_summary(device=None, abbreviated=False)"
   ]
  }
 ],
 "metadata": {
  "kernelspec": {
   "display_name": "Python 3",
   "language": "python",
   "name": "python3"
  },
  "language_info": {
   "codemirror_mode": {
    "name": "ipython",
    "version": 3
   },
   "file_extension": ".py",
   "mimetype": "text/x-python",
   "name": "python",
   "nbconvert_exporter": "python",
   "pygments_lexer": "ipython3",
   "version": "3.9.16"
  },
  "toc-autonumbering": false,
  "toc-showcode": true,
  "toc-showmarkdowntxt": true,
  "toc-showtags": false
 },
 "nbformat": 4,
 "nbformat_minor": 5
}
